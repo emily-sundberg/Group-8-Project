{
  "cells": [
    {
      "cell_type": "code",
      "metadata": {},
      "source": [
        "#| label: setup-topic-2-2\n",
        "#| warning: false\n",
        "\n",
        "import pandas as pd\n",
        "import numpy as np\n",
        "import plotly.express as px\n",
        "import plotly.graph_objects as go\n",
        "import plotly.io as pio\n",
        "from plotly.subplots import make_subplots\n",
        "\n",
        "from sklearn.model_selection import train_test_split\n",
        "from sklearn.preprocessing import LabelEncoder, StandardScaler\n",
        "from sklearn.linear_model import LinearRegression\n",
        "from sklearn.ensemble import RandomForestRegressor\n",
        "from sklearn.cluster import KMeans\n",
        "from sklearn.metrics import mean_squared_error, r2_score, silhouette_score\n",
        "\n",
        "import warnings\n",
        "warnings.filterwarnings('ignore')\n",
        "\n",
        "# Set Plotly theme\n",
        "pio.templates.default = \"plotly_white\"\n",
        "\n",
        "print(\"✓ All libraries loaded successfully!\")"
      ],
      "id": "setup-topic-2-2",
      "execution_count": null,
      "outputs": []
    },
    {
      "cell_type": "markdown",
      "metadata": {},
      "source": [
        "## Data Loading and Exploration"
      ],
      "id": "4ba97604"
    },
    {
      "cell_type": "code",
      "metadata": {},
      "source": [
        "#| label: load-data-topic-2-2\n",
        "\n",
        "# Load lightcast job postings data\n",
        "df = pd.read_csv('data/lightcast_job_postings.csv')\n",
        "\n",
        "print(f\"Dataset Shape: {df.shape[0]:,} rows × {df.shape[1]} columns\")\n",
        "print(f\"\\nFirst few rows:\")\n",
        "df.head()"
      ],
      "id": "load-data-topic-2-2",
      "execution_count": null,
      "outputs": []
    },
    {
      "cell_type": "code",
      "metadata": {},
      "source": [
        "#| label: data-inspection\n",
        "\n",
        "# Check data quality\n",
        "print(\"=\"*80)\n",
        "print(\"DATA QUALITY ASSESSMENT\")\n",
        "print(\"=\"*80)\n",
        "\n",
        "# Key columns for analysis\n",
        "key_columns = ['SALARY', 'STATE', 'TITLE', 'NAICS_2022_2', 'SOC_2', 'ONET', 'LIGHTCAST_SECTORS']\n",
        "\n",
        "info_df = pd.DataFrame({\n",
        "    'Column': key_columns,\n",
        "    'Missing': [df[col].isnull().sum() if col in df.columns else 'N/A' for col in key_columns],\n",
        "    'Missing %': [f\"{(df[col].isnull().sum() / len(df) * 100):.2f}%\" if col in df.columns else 'N/A' for col in key_columns],\n",
        "    'Unique Values': [df[col].nunique() if col in df.columns else 'N/A' for col in key_columns]\n",
        "})\n",
        "\n",
        "print(info_df.to_string(index=False))\n",
        "\n",
        "# Salary statistics\n",
        "if 'SALARY' in df.columns:\n",
        "    print(f\"\\nSalary Statistics:\")\n",
        "    print(f\"  Mean: ${df['SALARY'].mean():,.2f}\")\n",
        "    print(f\"  Median: ${df['SALARY'].median():,.2f}\")\n",
        "    print(f\"  Std Dev: ${df['SALARY'].std():,.2f}\")\n",
        "    print(f\"  Range: ${df['SALARY'].min():,.2f} - ${df['SALARY'].max():,.2f}\")"
      ],
      "id": "data-inspection",
      "execution_count": null,
      "outputs": []
    },
    {
      "cell_type": "markdown",
      "metadata": {},
      "source": [
        "## Data Preprocessing"
      ],
      "id": "fa1b9c0b"
    },
    {
      "cell_type": "code",
      "metadata": {},
      "source": [
        "#| label: preprocessing\n",
        "\n",
        "# Create working copy\n",
        "df_clean = df.copy()\n",
        "\n",
        "# Remove rows with missing salary or state\n",
        "required_cols = ['SALARY', 'STATE']\n",
        "initial_rows = len(df_clean)\n",
        "df_clean = df_clean.dropna(subset=required_cols)\n",
        "removed_rows = initial_rows - len(df_clean)\n",
        "\n",
        "print(f\"Removed {removed_rows:,} rows with missing salary or state data\")\n",
        "print(f\"Final dataset: {len(df_clean):,} rows\")"
      ],
      "id": "preprocessing",
      "execution_count": null,
      "outputs": []
    },
    {
      "cell_type": "code",
      "metadata": {},
      "source": [
        "#| label: political-leaning-creation\n",
        "\n",
        "# Create political leaning variable based on 2024 presidential election\n",
        "red_states = [\n",
        "    'AL', 'AK', 'AR', 'FL', 'ID', 'IN', 'IA', 'KS', 'KY', \n",
        "    'LA', 'MS', 'MO', 'MT', 'NE', 'ND', 'OH', 'OK', 'SC', \n",
        "    'SD', 'TN', 'TX', 'UT', 'WV', 'WY'\n",
        "]\n",
        "\n",
        "blue_states = [\n",
        "    'CA', 'CO', 'CT', 'DE', 'HI', 'IL', 'ME', 'MD', 'MA', \n",
        "    'MI', 'MN', 'NH', 'NJ', 'NM', 'NY', 'OR', 'PA', 'RI', \n",
        "    'VT', 'VA', 'WA', 'WI', 'DC'\n",
        "]\n",
        "\n",
        "swing_states = ['AZ', 'GA', 'NC', 'NV']\n",
        "\n",
        "def assign_political_leaning(state):\n",
        "    if pd.isna(state):\n",
        "        return 'Unknown'\n",
        "    state = str(state).strip().upper()\n",
        "    if state in red_states:\n",
        "        return 'Red'\n",
        "    elif state in blue_states:\n",
        "        return 'Blue'\n",
        "    elif state in swing_states:\n",
        "        return 'Swing'\n",
        "    else:\n",
        "        return 'Other'\n",
        "\n",
        "df_clean['political_leaning'] = df_clean['STATE'].apply(assign_political_leaning)\n",
        "\n",
        "print(\"\\nPolitical Leaning Distribution:\")\n",
        "print(df_clean['political_leaning'].value_counts())\n",
        "print(f\"\\nPercentage:\")\n",
        "print((df_clean['political_leaning'].value_counts() / len(df_clean) * 100).round(2))"
      ],
      "id": "political-leaning-creation",
      "execution_count": null,
      "outputs": []
    },
    {
      "cell_type": "code",
      "metadata": {},
      "source": [
        "#| label: visualize-political-distribution\n",
        "\n",
        "# Visualize political distribution\n",
        "fig = px.pie(\n",
        "    values=df_clean['political_leaning'].value_counts().values,\n",
        "    names=df_clean['political_leaning'].value_counts().index,\n",
        "    title='Distribution of Jobs by Political Leaning of State',\n",
        "    hole=0.4,\n",
        "    color_discrete_map={'Red': '#FF6B6B', 'Blue': '#4ECDC4', 'Swing': '#FFD93D', 'Other': '#95A5A6'}\n",
        ")\n",
        "fig.update_layout(template=\"plotly_white\", height=400)\n",
        "fig.show()"
      ],
      "id": "visualize-political-distribution",
      "execution_count": null,
      "outputs": []
    },
    {
      "cell_type": "markdown",
      "metadata": {},
      "source": [
        "## K-Means Clustering (unsupervised)\n"
      ],
      "id": "9839bd5a"
    },
    {
      "cell_type": "code",
      "metadata": {},
      "source": [
        "#| label: clustering-reference-label\n",
        "\n",
        "# Determine which reference label to use\n",
        "reference_label = None\n",
        "for label in ['SOC_2', 'NAICS_2022_2', 'ONET', 'LIGHTCAST_SECTORS']:\n",
        "    if label in df_clean.columns and df_clean[label].notna().sum() > 0:\n",
        "        reference_label = label\n",
        "        print(f\"✓ Using {label} as reference label\")\n",
        "        break\n",
        "\n",
        "if reference_label is None:\n",
        "    print(\"Using TITLE as reference.\")\n",
        "    reference_label = 'TITLE'\n",
        "\n",
        "print(f\"\\nReference Label: {reference_label}\")\n",
        "print(f\"Unique values: {df_clean[reference_label].nunique():,}\")\n",
        "print(f\"\\nTop 10 {reference_label} categories:\")\n",
        "print(df_clean[reference_label].value_counts().head(10))"
      ],
      "id": "clustering-reference-label",
      "execution_count": null,
      "outputs": []
    }
  ],
  "metadata": {
    "kernelspec": {
      "name": "python3",
      "language": "python",
      "display_name": "Python 3 (ipykernel)"
    }
  },
  "nbformat": 4,
  "nbformat_minor": 5
}